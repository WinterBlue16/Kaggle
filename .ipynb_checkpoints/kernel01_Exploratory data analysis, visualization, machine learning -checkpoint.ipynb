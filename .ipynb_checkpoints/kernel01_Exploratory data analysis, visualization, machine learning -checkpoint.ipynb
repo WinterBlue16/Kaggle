{
 "cells": [
  {
   "cell_type": "markdown",
   "metadata": {},
   "source": [
    "# Contents \n",
    "- 1. 데이터셋 확인\n",
    "    - 1.1 Null data check \n",
    "    - 1.2 Target label 확인\n",
    "- 2. Exploratory data analysis\n",
    "    - 2.1 Pclass \n",
    "    - 2.2 Sex\n",
    "    - 2.3 Both Sex and Pclass\n",
    "    - 2.4 Age\n",
    "    - 2.5 Pclass, Sex, Age\n",
    "    - 2.6 Embarked \n",
    "    - 2.7 Famliy - SibSp(형제 자매) + Parch(부모, 자녀) \n",
    "    - 2.8 Cabin\n",
    "    "
   ]
  },
  {
   "cell_type": "code",
   "execution_count": null,
   "metadata": {},
   "outputs": [],
   "source": []
  }
 ],
 "metadata": {
  "kernelspec": {
   "display_name": "Python 3",
   "language": "python",
   "name": "python3"
  },
  "language_info": {
   "codemirror_mode": {
    "name": "ipython",
    "version": 3
   },
   "file_extension": ".py",
   "mimetype": "text/x-python",
   "name": "python",
   "nbconvert_exporter": "python",
   "pygments_lexer": "ipython3",
   "version": "3.7.3"
  }
 },
 "nbformat": 4,
 "nbformat_minor": 2
}
